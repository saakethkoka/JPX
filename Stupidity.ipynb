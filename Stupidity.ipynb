{
 "cells": [
  {
   "cell_type": "code",
   "execution_count": 2,
   "metadata": {
    "collapsed": true
   },
   "outputs": [],
   "source": [
    "import pandas as pd"
   ]
  },
  {
   "cell_type": "code",
   "execution_count": 3,
   "outputs": [],
   "source": [
    "df = pd.read_csv(\"jpx-tokyo-stock-exchange-prediction/train_files/trades.csv\")"
   ],
   "metadata": {
    "collapsed": false,
    "pycharm": {
     "name": "#%%\n"
    }
   }
  },
  {
   "cell_type": "code",
   "execution_count": 4,
   "outputs": [
    {
     "data": {
      "text/plain": "         Date StartDate EndDate Section  TotalSales  TotalPurchases  \\\n0  2017-01-04       NaN     NaN     NaN         NaN             NaN   \n1  2017-01-05       NaN     NaN     NaN         NaN             NaN   \n2  2017-01-06       NaN     NaN     NaN         NaN             NaN   \n3  2017-01-10       NaN     NaN     NaN         NaN             NaN   \n4  2017-01-11       NaN     NaN     NaN         NaN             NaN   \n\n   TotalTotal  TotalBalance  ProprietarySales  ProprietaryPurchases  ...  \\\n0         NaN           NaN               NaN                   NaN  ...   \n1         NaN           NaN               NaN                   NaN  ...   \n2         NaN           NaN               NaN                   NaN  ...   \n3         NaN           NaN               NaN                   NaN  ...   \n4         NaN           NaN               NaN                   NaN  ...   \n\n   CityBKsRegionalBKsEtcTotal  CityBKsRegionalBKsEtcBalance  TrustBanksSales  \\\n0                         NaN                           NaN              NaN   \n1                         NaN                           NaN              NaN   \n2                         NaN                           NaN              NaN   \n3                         NaN                           NaN              NaN   \n4                         NaN                           NaN              NaN   \n\n   TrustBanksPurchases  TrustBanksTotal  TrustBanksBalance  \\\n0                  NaN              NaN                NaN   \n1                  NaN              NaN                NaN   \n2                  NaN              NaN                NaN   \n3                  NaN              NaN                NaN   \n4                  NaN              NaN                NaN   \n\n   OtherFinancialInstitutionsSales  OtherFinancialInstitutionsPurchases  \\\n0                              NaN                                  NaN   \n1                              NaN                                  NaN   \n2                              NaN                                  NaN   \n3                              NaN                                  NaN   \n4                              NaN                                  NaN   \n\n   OtherFinancialInstitutionsTotal  OtherFinancialInstitutionsBalance  \n0                              NaN                                NaN  \n1                              NaN                                NaN  \n2                              NaN                                NaN  \n3                              NaN                                NaN  \n4                              NaN                                NaN  \n\n[5 rows x 56 columns]",
      "text/html": "<div>\n<style scoped>\n    .dataframe tbody tr th:only-of-type {\n        vertical-align: middle;\n    }\n\n    .dataframe tbody tr th {\n        vertical-align: top;\n    }\n\n    .dataframe thead th {\n        text-align: right;\n    }\n</style>\n<table border=\"1\" class=\"dataframe\">\n  <thead>\n    <tr style=\"text-align: right;\">\n      <th></th>\n      <th>Date</th>\n      <th>StartDate</th>\n      <th>EndDate</th>\n      <th>Section</th>\n      <th>TotalSales</th>\n      <th>TotalPurchases</th>\n      <th>TotalTotal</th>\n      <th>TotalBalance</th>\n      <th>ProprietarySales</th>\n      <th>ProprietaryPurchases</th>\n      <th>...</th>\n      <th>CityBKsRegionalBKsEtcTotal</th>\n      <th>CityBKsRegionalBKsEtcBalance</th>\n      <th>TrustBanksSales</th>\n      <th>TrustBanksPurchases</th>\n      <th>TrustBanksTotal</th>\n      <th>TrustBanksBalance</th>\n      <th>OtherFinancialInstitutionsSales</th>\n      <th>OtherFinancialInstitutionsPurchases</th>\n      <th>OtherFinancialInstitutionsTotal</th>\n      <th>OtherFinancialInstitutionsBalance</th>\n    </tr>\n  </thead>\n  <tbody>\n    <tr>\n      <th>0</th>\n      <td>2017-01-04</td>\n      <td>NaN</td>\n      <td>NaN</td>\n      <td>NaN</td>\n      <td>NaN</td>\n      <td>NaN</td>\n      <td>NaN</td>\n      <td>NaN</td>\n      <td>NaN</td>\n      <td>NaN</td>\n      <td>...</td>\n      <td>NaN</td>\n      <td>NaN</td>\n      <td>NaN</td>\n      <td>NaN</td>\n      <td>NaN</td>\n      <td>NaN</td>\n      <td>NaN</td>\n      <td>NaN</td>\n      <td>NaN</td>\n      <td>NaN</td>\n    </tr>\n    <tr>\n      <th>1</th>\n      <td>2017-01-05</td>\n      <td>NaN</td>\n      <td>NaN</td>\n      <td>NaN</td>\n      <td>NaN</td>\n      <td>NaN</td>\n      <td>NaN</td>\n      <td>NaN</td>\n      <td>NaN</td>\n      <td>NaN</td>\n      <td>...</td>\n      <td>NaN</td>\n      <td>NaN</td>\n      <td>NaN</td>\n      <td>NaN</td>\n      <td>NaN</td>\n      <td>NaN</td>\n      <td>NaN</td>\n      <td>NaN</td>\n      <td>NaN</td>\n      <td>NaN</td>\n    </tr>\n    <tr>\n      <th>2</th>\n      <td>2017-01-06</td>\n      <td>NaN</td>\n      <td>NaN</td>\n      <td>NaN</td>\n      <td>NaN</td>\n      <td>NaN</td>\n      <td>NaN</td>\n      <td>NaN</td>\n      <td>NaN</td>\n      <td>NaN</td>\n      <td>...</td>\n      <td>NaN</td>\n      <td>NaN</td>\n      <td>NaN</td>\n      <td>NaN</td>\n      <td>NaN</td>\n      <td>NaN</td>\n      <td>NaN</td>\n      <td>NaN</td>\n      <td>NaN</td>\n      <td>NaN</td>\n    </tr>\n    <tr>\n      <th>3</th>\n      <td>2017-01-10</td>\n      <td>NaN</td>\n      <td>NaN</td>\n      <td>NaN</td>\n      <td>NaN</td>\n      <td>NaN</td>\n      <td>NaN</td>\n      <td>NaN</td>\n      <td>NaN</td>\n      <td>NaN</td>\n      <td>...</td>\n      <td>NaN</td>\n      <td>NaN</td>\n      <td>NaN</td>\n      <td>NaN</td>\n      <td>NaN</td>\n      <td>NaN</td>\n      <td>NaN</td>\n      <td>NaN</td>\n      <td>NaN</td>\n      <td>NaN</td>\n    </tr>\n    <tr>\n      <th>4</th>\n      <td>2017-01-11</td>\n      <td>NaN</td>\n      <td>NaN</td>\n      <td>NaN</td>\n      <td>NaN</td>\n      <td>NaN</td>\n      <td>NaN</td>\n      <td>NaN</td>\n      <td>NaN</td>\n      <td>NaN</td>\n      <td>...</td>\n      <td>NaN</td>\n      <td>NaN</td>\n      <td>NaN</td>\n      <td>NaN</td>\n      <td>NaN</td>\n      <td>NaN</td>\n      <td>NaN</td>\n      <td>NaN</td>\n      <td>NaN</td>\n      <td>NaN</td>\n    </tr>\n  </tbody>\n</table>\n<p>5 rows × 56 columns</p>\n</div>"
     },
     "execution_count": 4,
     "metadata": {},
     "output_type": "execute_result"
    }
   ],
   "source": [
    "df.head()"
   ],
   "metadata": {
    "collapsed": false,
    "pycharm": {
     "name": "#%%\n"
    }
   }
  },
  {
   "cell_type": "code",
   "execution_count": 8,
   "outputs": [],
   "source": [
    "df.dropna(inplace=True)"
   ],
   "metadata": {
    "collapsed": false,
    "pycharm": {
     "name": "#%%\n"
    }
   }
  },
  {
   "cell_type": "code",
   "execution_count": 10,
   "outputs": [
    {
     "name": "stdout",
     "output_type": "stream",
     "text": [
      "<class 'pandas.core.frame.DataFrame'>\n",
      "Int64Index: 765 entries, 6 to 1710\n",
      "Data columns (total 56 columns):\n",
      " #   Column                               Non-Null Count  Dtype  \n",
      "---  ------                               --------------  -----  \n",
      " 0   Date                                 765 non-null    object \n",
      " 1   StartDate                            765 non-null    object \n",
      " 2   EndDate                              765 non-null    object \n",
      " 3   Section                              765 non-null    object \n",
      " 4   TotalSales                           765 non-null    float64\n",
      " 5   TotalPurchases                       765 non-null    float64\n",
      " 6   TotalTotal                           765 non-null    float64\n",
      " 7   TotalBalance                         765 non-null    float64\n",
      " 8   ProprietarySales                     765 non-null    float64\n",
      " 9   ProprietaryPurchases                 765 non-null    float64\n",
      " 10  ProprietaryTotal                     765 non-null    float64\n",
      " 11  ProprietaryBalance                   765 non-null    float64\n",
      " 12  BrokerageSales                       765 non-null    float64\n",
      " 13  BrokeragePurchases                   765 non-null    float64\n",
      " 14  BrokerageTotal                       765 non-null    float64\n",
      " 15  BrokerageBalance                     765 non-null    float64\n",
      " 16  IndividualsSales                     765 non-null    float64\n",
      " 17  IndividualsPurchases                 765 non-null    float64\n",
      " 18  IndividualsTotal                     765 non-null    float64\n",
      " 19  IndividualsBalance                   765 non-null    float64\n",
      " 20  ForeignersSales                      765 non-null    float64\n",
      " 21  ForeignersPurchases                  765 non-null    float64\n",
      " 22  ForeignersTotal                      765 non-null    float64\n",
      " 23  ForeignersBalance                    765 non-null    float64\n",
      " 24  SecuritiesCosSales                   765 non-null    float64\n",
      " 25  SecuritiesCosPurchases               765 non-null    float64\n",
      " 26  SecuritiesCosTotal                   765 non-null    float64\n",
      " 27  SecuritiesCosBalance                 765 non-null    float64\n",
      " 28  InvestmentTrustsSales                765 non-null    float64\n",
      " 29  InvestmentTrustsPurchases            765 non-null    float64\n",
      " 30  InvestmentTrustsTotal                765 non-null    float64\n",
      " 31  InvestmentTrustsBalance              765 non-null    float64\n",
      " 32  BusinessCosSales                     765 non-null    float64\n",
      " 33  BusinessCosPurchases                 765 non-null    float64\n",
      " 34  BusinessCosTotal                     765 non-null    float64\n",
      " 35  BusinessCosBalance                   765 non-null    float64\n",
      " 36  OtherInstitutionsSales               765 non-null    float64\n",
      " 37  OtherInstitutionsPurchases           765 non-null    float64\n",
      " 38  OtherInstitutionsTotal               765 non-null    float64\n",
      " 39  OtherInstitutionsBalance             765 non-null    float64\n",
      " 40  InsuranceCosSales                    765 non-null    float64\n",
      " 41  InsuranceCosPurchases                765 non-null    float64\n",
      " 42  InsuranceCosTotal                    765 non-null    float64\n",
      " 43  InsuranceCosBalance                  765 non-null    float64\n",
      " 44  CityBKsRegionalBKsEtcSales           765 non-null    float64\n",
      " 45  CityBKsRegionalBKsEtcPurchase        765 non-null    float64\n",
      " 46  CityBKsRegionalBKsEtcTotal           765 non-null    float64\n",
      " 47  CityBKsRegionalBKsEtcBalance         765 non-null    float64\n",
      " 48  TrustBanksSales                      765 non-null    float64\n",
      " 49  TrustBanksPurchases                  765 non-null    float64\n",
      " 50  TrustBanksTotal                      765 non-null    float64\n",
      " 51  TrustBanksBalance                    765 non-null    float64\n",
      " 52  OtherFinancialInstitutionsSales      765 non-null    float64\n",
      " 53  OtherFinancialInstitutionsPurchases  765 non-null    float64\n",
      " 54  OtherFinancialInstitutionsTotal      765 non-null    float64\n",
      " 55  OtherFinancialInstitutionsBalance    765 non-null    float64\n",
      "dtypes: float64(52), object(4)\n",
      "memory usage: 340.7+ KB\n"
     ]
    }
   ],
   "source": [
    "df.info()"
   ],
   "metadata": {
    "collapsed": false,
    "pycharm": {
     "name": "#%%\n"
    }
   }
  },
  {
   "cell_type": "markdown",
   "source": [
    "### Data extraction. % change in flow for each category"
   ],
   "metadata": {
    "collapsed": false,
    "pycharm": {
     "name": "#%% md\n"
    }
   }
  },
  {
   "cell_type": "code",
   "execution_count": 18,
   "outputs": [],
   "source": [
    "df[\"TotalChange\"] = (df[\"TotalPurchases\"] - df[\"TotalSales\"])/df[\"TotalTotal\"]\n",
    "df[\"ProprietaryChange\"] = (df[\"ProprietaryPurchases\"] - df[\"ProprietarySales\"])/df[\"ProprietaryTotal\"]\n",
    "df[\"BrokerageChange\"] = (df[\"BrokeragePurchases\"] - df[\"BrokerageSales\"])/df[\"BrokerageTotal\"]\n",
    "df[\"IndividualsChange\"] = (df[\"IndividualsPurchases\"] - df[\"IndividualsSales\"])/df[\"IndividualsTotal\"]\n",
    "df[\"ForeignersChange\"] = (df[\"ForeignersPurchases\"] - df[\"ForeignersSales\"])/df[\"ForeignersTotal\"]\n",
    "df[\"SecuritiesCosChange\"] = (df[\"SecuritiesCosPurchases\"] - df[\"SecuritiesCosSales\"])/df[\"SecuritiesCosTotal\"]\n",
    "df[\"InvestmentTrustsChange\"] = (df[\"InvestmentTrustsPurchases\"] - df[\"InvestmentTrustsSales\"])/df[\"InvestmentTrustsTotal\"]\n",
    "df[\"BusinessCosChange\"] = (df[\"BusinessCosPurchases\"] - df[\"BusinessCosSales\"])/df[\"BusinessCosTotal\"]\n",
    "df[\"OtherInstitutionsChange\"] = (df[\"OtherInstitutionsPurchases\"] - df[\"OtherInstitutionsSales\"])/df[\"OtherInstitutionsTotal\"]\n",
    "df[\"InsuranceCosChange\"] = (df[\"InsuranceCosPurchases\"] - df[\"InsuranceCosSales\"])/df[\"InsuranceCosTotal\"]\n",
    "df[\"CityBKsRegionalBKsEtcChange\"] = (df[\"CityBKsRegionalBKsEtcPurchase\"] - df[\"CityBKsRegionalBKsEtcSales\"])/df[\"CityBKsRegionalBKsEtcTotal\"]\n",
    "df[\"TrustBanksChange\"] = (df[\"TrustBanksPurchases\"] - df[\"TrustBanksSales\"])/df[\"TrustBanksTotal\"]\n",
    "df[\"OtherFinancialInstitutionsChange\"] = (df[\"OtherFinancialInstitutionsPurchases\"] - df[\"OtherFinancialInstitutionsSales\"])/df[\"OtherFinancialInstitutionsTotal\"]"
   ],
   "metadata": {
    "collapsed": false,
    "pycharm": {
     "name": "#%%\n"
    }
   }
  },
  {
   "cell_type": "code",
   "execution_count": 20,
   "outputs": [
    {
     "data": {
      "text/plain": "0.21202011403376664"
     },
     "execution_count": 20,
     "metadata": {},
     "output_type": "execute_result"
    }
   ],
   "source": [],
   "metadata": {
    "collapsed": false,
    "pycharm": {
     "name": "#%%\n"
    }
   }
  },
  {
   "cell_type": "code",
   "execution_count": null,
   "outputs": [],
   "source": [],
   "metadata": {
    "collapsed": false,
    "pycharm": {
     "name": "#%%\n"
    }
   }
  }
 ],
 "metadata": {
  "kernelspec": {
   "display_name": "Python 3",
   "language": "python",
   "name": "python3"
  },
  "language_info": {
   "codemirror_mode": {
    "name": "ipython",
    "version": 2
   },
   "file_extension": ".py",
   "mimetype": "text/x-python",
   "name": "python",
   "nbconvert_exporter": "python",
   "pygments_lexer": "ipython2",
   "version": "2.7.6"
  }
 },
 "nbformat": 4,
 "nbformat_minor": 0
}