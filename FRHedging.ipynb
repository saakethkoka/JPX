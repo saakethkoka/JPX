{
 "cells": [
  {
   "cell_type": "code",
   "execution_count": 2,
   "metadata": {},
   "outputs": [],
   "source": [
    "import pandas as pd\n",
    "import numpy as np\n",
    "import plotly.express as px\n",
    "import scipy\n",
    "import numpy"
   ]
  },
  {
   "cell_type": "markdown",
   "metadata": {
    "pycharm": {
     "name": "#%% md\n"
    }
   },
   "source": [
    "# Reading in the data:"
   ]
  },
  {
   "cell_type": "code",
   "execution_count": 3,
   "metadata": {
    "pycharm": {
     "name": "#%%\n"
    }
   },
   "outputs": [
    {
     "name": "stderr",
     "output_type": "stream",
     "text": [
      "<timed exec>:1: DtypeWarning: Columns (7,8,9,10) have mixed types. Specify dtype option on import or set low_memory=False.\n"
     ]
    },
    {
     "name": "stdout",
     "output_type": "stream",
     "text": [
      "CPU times: user 4.18 s, sys: 507 ms, total: 4.69 s\n",
      "Wall time: 4.69 s\n"
     ]
    }
   ],
   "source": [
    "%%time\n",
    "options = pd.read_csv(\"jpx-tokyo-stock-exchange-prediction/train_files/options.csv\")"
   ]
  },
  {
   "cell_type": "code",
   "execution_count": 4,
   "metadata": {
    "pycharm": {
     "name": "#%%\n"
    }
   },
   "outputs": [
    {
     "name": "stdout",
     "output_type": "stream",
     "text": [
      "CPU times: user 1.3 s, sys: 50.9 ms, total: 1.35 s\n",
      "Wall time: 1.35 s\n"
     ]
    }
   ],
   "source": [
    "%%time\n",
    "stock_prices = pd.read_csv(\"jpx-tokyo-stock-exchange-prediction/train_files/stock_prices.csv\")"
   ]
  },
  {
   "cell_type": "code",
   "execution_count": 5,
   "metadata": {},
   "outputs": [
    {
     "name": "stdout",
     "output_type": "stream",
     "text": [
      "<class 'pandas.core.frame.DataFrame'>\n",
      "RangeIndex: 3658100 entries, 0 to 3658099\n",
      "Data columns (total 31 columns):\n",
      " #   Column               Dtype  \n",
      "---  ------               -----  \n",
      " 0   DateCode             object \n",
      " 1   Date                 object \n",
      " 2   OptionsCode          int64  \n",
      " 3   WholeDayOpen         float64\n",
      " 4   WholeDayHigh         float64\n",
      " 5   WholeDayLow          float64\n",
      " 6   WholeDayClose        float64\n",
      " 7   NightSessionOpen     object \n",
      " 8   NightSessionHigh     object \n",
      " 9   NightSessionLow      object \n",
      " 10  NightSessionClose    object \n",
      " 11  DaySessionOpen       float64\n",
      " 12  DaySessionHigh       float64\n",
      " 13  DaySessionLow        float64\n",
      " 14  DaySessionClose      float64\n",
      " 15  TradingVolume        int64  \n",
      " 16  OpenInterest         int64  \n",
      " 17  TradingValue         int64  \n",
      " 18  ContractMonth        int64  \n",
      " 19  StrikePrice          float64\n",
      " 20  DaySessionVolume     int64  \n",
      " 21  Putcall              float64\n",
      " 22  LastTradingDay       float64\n",
      " 23  SpecialQuotationDay  float64\n",
      " 24  SettlementPrice      float64\n",
      " 25  TheoreticalPrice     float64\n",
      " 26  BaseVolatility       float64\n",
      " 27  ImpliedVolatility    float64\n",
      " 28  InterestRate         float64\n",
      " 29  DividendRate         float64\n",
      " 30  Dividend             float64\n",
      "dtypes: float64(19), int64(6), object(6)\n",
      "memory usage: 865.2+ MB\n"
     ]
    }
   ],
   "source": [
    "options.info()"
   ]
  },
  {
   "cell_type": "markdown",
   "source": [],
   "metadata": {
    "collapsed": false
   }
  },
  {
   "cell_type": "code",
   "execution_count": 6,
   "metadata": {
    "pycharm": {
     "name": "#%%\n"
    }
   },
   "outputs": [
    {
     "data": {
      "text/plain": "                   DateCode        Date  OptionsCode  WholeDayClose  \\\n0        20170104_132010018  2017-01-04    132010018          480.0   \n1        20170104_132010118  2017-01-04    132010118            0.0   \n2        20170104_132010218  2017-01-04    132010218            0.0   \n3        20170104_132010318  2017-01-04    132010318            0.0   \n4        20170104_132010518  2017-01-04    132010518            0.0   \n...                     ...         ...          ...            ...   \n3658095  20211203_199244018  2021-12-03    199244018            0.0   \n3658096  20211203_199245018  2021-12-03    199245018            0.0   \n3658097  20211203_199246018  2021-12-03    199246018            0.0   \n3658098  20211203_199247018  2021-12-03    199247018            0.0   \n3658099  20211203_199248018  2021-12-03    199248018            0.0   \n\n         StrikePrice  LastTradingDay  \n0            20000.0      20170112.0  \n1            20125.0      20170112.0  \n2            20250.0      20170112.0  \n3            20375.0      20170112.0  \n4            20500.0      20170112.0  \n...              ...             ...  \n3658095      44000.0      20241212.0  \n3658096      35000.0      20241212.0  \n3658097      36000.0      20241212.0  \n3658098      37000.0      20241212.0  \n3658099      38000.0      20241212.0  \n\n[3658100 rows x 6 columns]",
      "text/html": "<div>\n<style scoped>\n    .dataframe tbody tr th:only-of-type {\n        vertical-align: middle;\n    }\n\n    .dataframe tbody tr th {\n        vertical-align: top;\n    }\n\n    .dataframe thead th {\n        text-align: right;\n    }\n</style>\n<table border=\"1\" class=\"dataframe\">\n  <thead>\n    <tr style=\"text-align: right;\">\n      <th></th>\n      <th>DateCode</th>\n      <th>Date</th>\n      <th>OptionsCode</th>\n      <th>WholeDayClose</th>\n      <th>StrikePrice</th>\n      <th>LastTradingDay</th>\n    </tr>\n  </thead>\n  <tbody>\n    <tr>\n      <th>0</th>\n      <td>20170104_132010018</td>\n      <td>2017-01-04</td>\n      <td>132010018</td>\n      <td>480.0</td>\n      <td>20000.0</td>\n      <td>20170112.0</td>\n    </tr>\n    <tr>\n      <th>1</th>\n      <td>20170104_132010118</td>\n      <td>2017-01-04</td>\n      <td>132010118</td>\n      <td>0.0</td>\n      <td>20125.0</td>\n      <td>20170112.0</td>\n    </tr>\n    <tr>\n      <th>2</th>\n      <td>20170104_132010218</td>\n      <td>2017-01-04</td>\n      <td>132010218</td>\n      <td>0.0</td>\n      <td>20250.0</td>\n      <td>20170112.0</td>\n    </tr>\n    <tr>\n      <th>3</th>\n      <td>20170104_132010318</td>\n      <td>2017-01-04</td>\n      <td>132010318</td>\n      <td>0.0</td>\n      <td>20375.0</td>\n      <td>20170112.0</td>\n    </tr>\n    <tr>\n      <th>4</th>\n      <td>20170104_132010518</td>\n      <td>2017-01-04</td>\n      <td>132010518</td>\n      <td>0.0</td>\n      <td>20500.0</td>\n      <td>20170112.0</td>\n    </tr>\n    <tr>\n      <th>...</th>\n      <td>...</td>\n      <td>...</td>\n      <td>...</td>\n      <td>...</td>\n      <td>...</td>\n      <td>...</td>\n    </tr>\n    <tr>\n      <th>3658095</th>\n      <td>20211203_199244018</td>\n      <td>2021-12-03</td>\n      <td>199244018</td>\n      <td>0.0</td>\n      <td>44000.0</td>\n      <td>20241212.0</td>\n    </tr>\n    <tr>\n      <th>3658096</th>\n      <td>20211203_199245018</td>\n      <td>2021-12-03</td>\n      <td>199245018</td>\n      <td>0.0</td>\n      <td>35000.0</td>\n      <td>20241212.0</td>\n    </tr>\n    <tr>\n      <th>3658097</th>\n      <td>20211203_199246018</td>\n      <td>2021-12-03</td>\n      <td>199246018</td>\n      <td>0.0</td>\n      <td>36000.0</td>\n      <td>20241212.0</td>\n    </tr>\n    <tr>\n      <th>3658098</th>\n      <td>20211203_199247018</td>\n      <td>2021-12-03</td>\n      <td>199247018</td>\n      <td>0.0</td>\n      <td>37000.0</td>\n      <td>20241212.0</td>\n    </tr>\n    <tr>\n      <th>3658099</th>\n      <td>20211203_199248018</td>\n      <td>2021-12-03</td>\n      <td>199248018</td>\n      <td>0.0</td>\n      <td>38000.0</td>\n      <td>20241212.0</td>\n    </tr>\n  </tbody>\n</table>\n<p>3658100 rows × 6 columns</p>\n</div>"
     },
     "execution_count": 6,
     "metadata": {},
     "output_type": "execute_result"
    }
   ],
   "source": [
    "options[[\"DateCode\", \"Date\", \"OptionsCode\", \"WholeDayClose\", \"StrikePrice\", \"LastTradingDay\"]]"
   ]
  },
  {
   "cell_type": "code",
   "execution_count": 7,
   "metadata": {
    "pycharm": {
     "name": "#%%\n"
    }
   },
   "outputs": [
    {
     "data": {
      "text/plain": "           RowId        Date  SecuritiesCode    Open    High     Low   Close  \\\n0  20170104_1301  2017-01-04            1301  2734.0  2755.0  2730.0  2742.0   \n1  20170104_1332  2017-01-04            1332   568.0   576.0   563.0   571.0   \n2  20170104_1333  2017-01-04            1333  3150.0  3210.0  3140.0  3210.0   \n3  20170104_1376  2017-01-04            1376  1510.0  1550.0  1510.0  1550.0   \n4  20170104_1377  2017-01-04            1377  3270.0  3350.0  3270.0  3330.0   \n\n    Volume  AdjustmentFactor  ExpectedDividend  SupervisionFlag    Target  \n0    31400               1.0               NaN            False  0.000730  \n1  2798500               1.0               NaN            False  0.012324  \n2   270800               1.0               NaN            False  0.006154  \n3    11300               1.0               NaN            False  0.011053  \n4   150800               1.0               NaN            False  0.003026  ",
      "text/html": "<div>\n<style scoped>\n    .dataframe tbody tr th:only-of-type {\n        vertical-align: middle;\n    }\n\n    .dataframe tbody tr th {\n        vertical-align: top;\n    }\n\n    .dataframe thead th {\n        text-align: right;\n    }\n</style>\n<table border=\"1\" class=\"dataframe\">\n  <thead>\n    <tr style=\"text-align: right;\">\n      <th></th>\n      <th>RowId</th>\n      <th>Date</th>\n      <th>SecuritiesCode</th>\n      <th>Open</th>\n      <th>High</th>\n      <th>Low</th>\n      <th>Close</th>\n      <th>Volume</th>\n      <th>AdjustmentFactor</th>\n      <th>ExpectedDividend</th>\n      <th>SupervisionFlag</th>\n      <th>Target</th>\n    </tr>\n  </thead>\n  <tbody>\n    <tr>\n      <th>0</th>\n      <td>20170104_1301</td>\n      <td>2017-01-04</td>\n      <td>1301</td>\n      <td>2734.0</td>\n      <td>2755.0</td>\n      <td>2730.0</td>\n      <td>2742.0</td>\n      <td>31400</td>\n      <td>1.0</td>\n      <td>NaN</td>\n      <td>False</td>\n      <td>0.000730</td>\n    </tr>\n    <tr>\n      <th>1</th>\n      <td>20170104_1332</td>\n      <td>2017-01-04</td>\n      <td>1332</td>\n      <td>568.0</td>\n      <td>576.0</td>\n      <td>563.0</td>\n      <td>571.0</td>\n      <td>2798500</td>\n      <td>1.0</td>\n      <td>NaN</td>\n      <td>False</td>\n      <td>0.012324</td>\n    </tr>\n    <tr>\n      <th>2</th>\n      <td>20170104_1333</td>\n      <td>2017-01-04</td>\n      <td>1333</td>\n      <td>3150.0</td>\n      <td>3210.0</td>\n      <td>3140.0</td>\n      <td>3210.0</td>\n      <td>270800</td>\n      <td>1.0</td>\n      <td>NaN</td>\n      <td>False</td>\n      <td>0.006154</td>\n    </tr>\n    <tr>\n      <th>3</th>\n      <td>20170104_1376</td>\n      <td>2017-01-04</td>\n      <td>1376</td>\n      <td>1510.0</td>\n      <td>1550.0</td>\n      <td>1510.0</td>\n      <td>1550.0</td>\n      <td>11300</td>\n      <td>1.0</td>\n      <td>NaN</td>\n      <td>False</td>\n      <td>0.011053</td>\n    </tr>\n    <tr>\n      <th>4</th>\n      <td>20170104_1377</td>\n      <td>2017-01-04</td>\n      <td>1377</td>\n      <td>3270.0</td>\n      <td>3350.0</td>\n      <td>3270.0</td>\n      <td>3330.0</td>\n      <td>150800</td>\n      <td>1.0</td>\n      <td>NaN</td>\n      <td>False</td>\n      <td>0.003026</td>\n    </tr>\n  </tbody>\n</table>\n</div>"
     },
     "execution_count": 7,
     "metadata": {},
     "output_type": "execute_result"
    }
   ],
   "source": [
    "stock_prices.head()"
   ]
  },
  {
   "cell_type": "markdown",
   "metadata": {
    "pycharm": {
     "name": "#%% md\n"
    }
   },
   "source": [
    "# Exploring the data"
   ]
  },
  {
   "cell_type": "code",
   "execution_count": 8,
   "metadata": {
    "pycharm": {
     "name": "#%%\n"
    }
   },
   "outputs": [
    {
     "data": {
      "text/plain": "1.119512195121951"
     },
     "execution_count": 8,
     "metadata": {},
     "output_type": "execute_result"
    }
   ],
   "source": [
    "stock_prices.Target.max()"
   ]
  },
  {
   "cell_type": "markdown",
   "metadata": {
    "pycharm": {
     "name": "#%% md\n"
    }
   },
   "source": [
    "# Processing the data"
   ]
  },
  {
   "cell_type": "code",
   "execution_count": 9,
   "metadata": {
    "pycharm": {
     "name": "#%%\n"
    }
   },
   "outputs": [],
   "source": [
    "# Calculates the delta of the option using the Black Scholes Option Pricing Model.\n",
    "def calculate_delta_BS(S, K, r, sigma, t, option_type):\n",
    "    if option_type == \"C\":\n",
    "        return scipy.stats.norm.cdf((np.log(S / K) + (r + 0.5 * sigma ** 2) * t) / (sigma * np.sqrt(t)))\n",
    "    elif option_type == \"P\":\n",
    "        return scipy.stats.norm.cdf((np.log(S / K) + (r + 0.5 * sigma ** 2) * t) / (sigma * np.sqrt(t))) - 1"
   ]
  },
  {
   "cell_type": "code",
   "execution_count": 10,
   "metadata": {},
   "outputs": [],
   "source": [
    "def parseCode(row):\n",
    "    code = str(row[\"OptionsCode\"])\n",
    "    return int(code[:4])\n",
    "\n",
    "\n",
    "options[\"SecuritiesCode\"] = options.apply(parseCode, axis=1)"
   ]
  },
  {
   "cell_type": "code",
   "execution_count": 11,
   "metadata": {},
   "outputs": [
    {
     "data": {
      "text/plain": "0          1320\n1          1320\n2          1320\n3          1320\n4          1320\n           ... \n3658095    1992\n3658096    1992\n3658097    1992\n3658098    1992\n3658099    1992\nName: SecuritiesCode, Length: 3658100, dtype: int64"
     },
     "execution_count": 11,
     "metadata": {},
     "output_type": "execute_result"
    }
   ],
   "source": [
    "options[\"SecuritiesCode\"]"
   ]
  },
  {
   "cell_type": "markdown",
   "metadata": {
    "pycharm": {
     "name": "#%%\n"
    }
   },
   "source": [
    "### Merging Option prices and Stock Price data left join"
   ]
  },
  {
   "cell_type": "code",
   "execution_count": 12,
   "metadata": {},
   "outputs": [],
   "source": [
    "new_df = options.merge(stock_prices, how=\"inner\", left_on=[\"SecuritiesCode\", \"Date\"], right_on=[\"SecuritiesCode\", \"Date\"])"
   ]
  },
  {
   "cell_type": "code",
   "execution_count": 13,
   "metadata": {},
   "outputs": [
    {
     "name": "stdout",
     "output_type": "stream",
     "text": [
      "<class 'pandas.core.frame.DataFrame'>\n",
      "Int64Index: 612451 entries, 0 to 612450\n",
      "Data columns (total 42 columns):\n",
      " #   Column               Non-Null Count   Dtype  \n",
      "---  ------               --------------   -----  \n",
      " 0   DateCode             612451 non-null  object \n",
      " 1   Date                 612451 non-null  object \n",
      " 2   OptionsCode          612451 non-null  int64  \n",
      " 3   WholeDayOpen         612451 non-null  float64\n",
      " 4   WholeDayHigh         612451 non-null  float64\n",
      " 5   WholeDayLow          612451 non-null  float64\n",
      " 6   WholeDayClose        612451 non-null  float64\n",
      " 7   NightSessionOpen     612451 non-null  object \n",
      " 8   NightSessionHigh     612451 non-null  object \n",
      " 9   NightSessionLow      612451 non-null  object \n",
      " 10  NightSessionClose    612451 non-null  object \n",
      " 11  DaySessionOpen       612451 non-null  float64\n",
      " 12  DaySessionHigh       612451 non-null  float64\n",
      " 13  DaySessionLow        612451 non-null  float64\n",
      " 14  DaySessionClose      612451 non-null  float64\n",
      " 15  TradingVolume        612451 non-null  int64  \n",
      " 16  OpenInterest         612451 non-null  int64  \n",
      " 17  TradingValue         612451 non-null  int64  \n",
      " 18  ContractMonth        612451 non-null  int64  \n",
      " 19  StrikePrice          612451 non-null  float64\n",
      " 20  DaySessionVolume     612451 non-null  int64  \n",
      " 21  Putcall              612451 non-null  float64\n",
      " 22  LastTradingDay       612451 non-null  float64\n",
      " 23  SpecialQuotationDay  612451 non-null  float64\n",
      " 24  SettlementPrice      612451 non-null  float64\n",
      " 25  TheoreticalPrice     612451 non-null  float64\n",
      " 26  BaseVolatility       612451 non-null  float64\n",
      " 27  ImpliedVolatility    612451 non-null  float64\n",
      " 28  InterestRate         612451 non-null  float64\n",
      " 29  DividendRate         612451 non-null  float64\n",
      " 30  Dividend             612451 non-null  float64\n",
      " 31  SecuritiesCode       612451 non-null  int64  \n",
      " 32  RowId                612451 non-null  object \n",
      " 33  Open                 604552 non-null  float64\n",
      " 34  High                 604552 non-null  float64\n",
      " 35  Low                  604552 non-null  float64\n",
      " 36  Close                604552 non-null  float64\n",
      " 37  Volume               612451 non-null  int64  \n",
      " 38  AdjustmentFactor     612451 non-null  float64\n",
      " 39  ExpectedDividend     4076 non-null    float64\n",
      " 40  SupervisionFlag      612451 non-null  bool   \n",
      " 41  Target               612451 non-null  float64\n",
      "dtypes: bool(1), float64(26), int64(8), object(7)\n",
      "memory usage: 196.8+ MB\n"
     ]
    }
   ],
   "source": [
    "new_df.info()"
   ]
  },
  {
   "cell_type": "code",
   "execution_count": 13,
   "metadata": {},
   "outputs": [],
   "source": []
  },
  {
   "cell_type": "code",
   "execution_count": 13,
   "outputs": [],
   "source": [],
   "metadata": {
    "collapsed": false,
    "pycharm": {
     "name": "#%%\n"
    }
   }
  },
  {
   "cell_type": "code",
   "execution_count": null,
   "outputs": [],
   "source": [],
   "metadata": {
    "collapsed": false,
    "pycharm": {
     "name": "#%%\n"
    }
   }
  }
 ],
 "metadata": {
  "kernelspec": {
   "display_name": "Python 3",
   "language": "python",
   "name": "python3"
  },
  "language_info": {
   "codemirror_mode": {
    "name": "ipython",
    "version": 3
   },
   "file_extension": ".py",
   "mimetype": "text/x-python",
   "name": "python",
   "nbconvert_exporter": "python",
   "pygments_lexer": "ipython3",
   "version": "3.8.3"
  }
 },
 "nbformat": 4,
 "nbformat_minor": 1
}